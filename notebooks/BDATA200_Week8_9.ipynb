{
 "cells": [
  {
   "cell_type": "markdown",
   "metadata": {
    "id": "DqWD2aDDY6BN",
    "tags": []
   },
   "source": [
    "# Data Exploration with Python\n",
    "\n",
    "(Review Reading Assignments: Analyzing Tabular Omics Data using Pandas DataFrames, and Data Visualization/Data Visualization with Seaborn)"
   ]
  },
  {
   "cell_type": "markdown",
   "metadata": {},
   "source": [
    "## Check package versions"
   ]
  },
  {
   "cell_type": "code",
   "execution_count": 2,
   "metadata": {
    "collapsed": true,
    "jupyter": {
     "outputs_hidden": true
    },
    "tags": []
   },
   "outputs": [
    {
     "name": "stdout",
     "output_type": "stream",
     "text": [
      "Looking in links: file:///Users/yeemayseah/.pip/wheelhouse\n",
      "\u001b[33mWARNING: Location 'file:///Users/yeemayseah/.pip/wheelhouse' is ignored: it is neither a file nor a directory.\u001b[0m\n",
      "Collecting seaborn==0.13.2\n",
      "  Downloading seaborn-0.13.2-py3-none-any.whl (294 kB)\n",
      "\u001b[K     |████████████████████████████████| 294 kB 9.1 MB/s eta 0:00:01\n",
      "\u001b[?25hRequirement already satisfied: pandas>=1.2 in /Users/yeemayseah/anaconda3/lib/python3.8/site-packages (from seaborn==0.13.2) (1.3.4)\n",
      "Requirement already satisfied: matplotlib!=3.6.1,>=3.4 in /Users/yeemayseah/anaconda3/lib/python3.8/site-packages (from seaborn==0.13.2) (3.5.0)\n",
      "Requirement already satisfied: numpy!=1.24.0,>=1.20 in /Users/yeemayseah/anaconda3/lib/python3.8/site-packages (from seaborn==0.13.2) (1.21.2)\n",
      "Requirement already satisfied: pillow>=6.2.0 in /Users/yeemayseah/anaconda3/lib/python3.8/site-packages (from matplotlib!=3.6.1,>=3.4->seaborn==0.13.2) (8.4.0)\n",
      "Requirement already satisfied: pyparsing>=2.2.1 in /Users/yeemayseah/anaconda3/lib/python3.8/site-packages (from matplotlib!=3.6.1,>=3.4->seaborn==0.13.2) (3.0.4)\n",
      "Requirement already satisfied: packaging>=20.0 in /Users/yeemayseah/anaconda3/lib/python3.8/site-packages (from matplotlib!=3.6.1,>=3.4->seaborn==0.13.2) (21.3)\n",
      "Requirement already satisfied: kiwisolver>=1.0.1 in /Users/yeemayseah/anaconda3/lib/python3.8/site-packages (from matplotlib!=3.6.1,>=3.4->seaborn==0.13.2) (1.3.1)\n",
      "Requirement already satisfied: cycler>=0.10 in /Users/yeemayseah/anaconda3/lib/python3.8/site-packages (from matplotlib!=3.6.1,>=3.4->seaborn==0.13.2) (0.11.0)\n",
      "Requirement already satisfied: python-dateutil>=2.7 in /Users/yeemayseah/anaconda3/lib/python3.8/site-packages (from matplotlib!=3.6.1,>=3.4->seaborn==0.13.2) (2.8.2)\n",
      "Requirement already satisfied: fonttools>=4.22.0 in /Users/yeemayseah/anaconda3/lib/python3.8/site-packages (from matplotlib!=3.6.1,>=3.4->seaborn==0.13.2) (4.25.0)\n",
      "Requirement already satisfied: pytz>=2017.3 in /Users/yeemayseah/anaconda3/lib/python3.8/site-packages (from pandas>=1.2->seaborn==0.13.2) (2021.3)\n",
      "Requirement already satisfied: six>=1.5 in /Users/yeemayseah/anaconda3/lib/python3.8/site-packages (from python-dateutil>=2.7->matplotlib!=3.6.1,>=3.4->seaborn==0.13.2) (1.16.0)\n",
      "Installing collected packages: seaborn\n",
      "  Attempting uninstall: seaborn\n",
      "    Found existing installation: seaborn 0.11.2\n",
      "    Uninstalling seaborn-0.11.2:\n",
      "      Successfully uninstalled seaborn-0.11.2\n",
      "Successfully installed seaborn-0.13.2\n"
     ]
    }
   ],
   "source": [
    "import sys\n",
    "!{sys.executable} -m pip install seaborn==0.13.2"
   ]
  },
  {
   "cell_type": "code",
   "execution_count": 5,
   "metadata": {
    "collapsed": true,
    "jupyter": {
     "outputs_hidden": true
    },
    "tags": []
   },
   "outputs": [
    {
     "name": "stdout",
     "output_type": "stream",
     "text": [
      "Looking in links: file:///Users/yeemayseah/.pip/wheelhouse\n",
      "\u001b[33mWARNING: Location 'file:///Users/yeemayseah/.pip/wheelhouse' is ignored: it is neither a file nor a directory.\u001b[0m\n",
      "Collecting matplotlib==3.7.5\n",
      "  Downloading matplotlib-3.7.5-cp38-cp38-macosx_10_12_x86_64.whl (7.4 MB)\n",
      "\u001b[K     |████████████████████████████████| 7.4 MB 9.9 MB/s eta 0:00:01\n",
      "\u001b[?25hRequirement already satisfied: python-dateutil>=2.7 in /Users/yeemayseah/anaconda3/lib/python3.8/site-packages (from matplotlib==3.7.5) (2.8.2)\n",
      "Requirement already satisfied: packaging>=20.0 in /Users/yeemayseah/anaconda3/lib/python3.8/site-packages (from matplotlib==3.7.5) (21.3)\n",
      "Requirement already satisfied: numpy<2,>=1.20 in /Users/yeemayseah/anaconda3/lib/python3.8/site-packages (from matplotlib==3.7.5) (1.21.2)\n",
      "\u001b[33mWARNING: Location 'file:///Users/yeemayseah/.pip/wheelhouse' is ignored: it is neither a file nor a directory.\u001b[0m\n",
      "Collecting importlib-resources>=3.2.0\n",
      "  Downloading importlib_resources-6.1.2-py3-none-any.whl (34 kB)\n",
      "Requirement already satisfied: pillow>=6.2.0 in /Users/yeemayseah/anaconda3/lib/python3.8/site-packages (from matplotlib==3.7.5) (8.4.0)\n",
      "Requirement already satisfied: pyparsing>=2.3.1 in /Users/yeemayseah/anaconda3/lib/python3.8/site-packages (from matplotlib==3.7.5) (3.0.4)\n",
      "Requirement already satisfied: kiwisolver>=1.0.1 in /Users/yeemayseah/anaconda3/lib/python3.8/site-packages (from matplotlib==3.7.5) (1.3.1)\n",
      "Requirement already satisfied: cycler>=0.10 in /Users/yeemayseah/anaconda3/lib/python3.8/site-packages (from matplotlib==3.7.5) (0.11.0)\n",
      "Requirement already satisfied: fonttools>=4.22.0 in /Users/yeemayseah/anaconda3/lib/python3.8/site-packages (from matplotlib==3.7.5) (4.25.0)\n",
      "\u001b[33mWARNING: Location 'file:///Users/yeemayseah/.pip/wheelhouse' is ignored: it is neither a file nor a directory.\u001b[0m\n",
      "Collecting contourpy>=1.0.1\n",
      "  Downloading contourpy-1.1.1-cp38-cp38-macosx_10_9_x86_64.whl (247 kB)\n",
      "\u001b[K     |████████████████████████████████| 247 kB 8.8 MB/s eta 0:00:01\n",
      "\u001b[?25hRequirement already satisfied: zipp>=3.1.0 in /Users/yeemayseah/anaconda3/lib/python3.8/site-packages (from importlib-resources>=3.2.0->matplotlib==3.7.5) (3.6.0)\n",
      "Requirement already satisfied: six>=1.5 in /Users/yeemayseah/anaconda3/lib/python3.8/site-packages (from python-dateutil>=2.7->matplotlib==3.7.5) (1.16.0)\n",
      "Installing collected packages: importlib-resources, contourpy, matplotlib\n",
      "  Attempting uninstall: matplotlib\n",
      "    Found existing installation: matplotlib 3.5.0\n",
      "    Uninstalling matplotlib-3.5.0:\n",
      "      Successfully uninstalled matplotlib-3.5.0\n",
      "Successfully installed contourpy-1.1.1 importlib-resources-6.1.2 matplotlib-3.7.5\n"
     ]
    }
   ],
   "source": [
    "!{sys.executable} -m pip install matplotlib==3.7.5"
   ]
  },
  {
   "cell_type": "code",
   "execution_count": 21,
   "metadata": {},
   "outputs": [],
   "source": [
    "from urllib.request import urlretrieve\n",
    "import pandas as pd\n",
    "import seaborn as sns"
   ]
  },
  {
   "cell_type": "markdown",
   "metadata": {},
   "source": [
    "## 1. Explore [this dataset on infectious diseases from the CA Dept. of Public Health](https://catalog.data.gov/dataset/infectious-diseases-by-disease-county-year-and-sex-d8912)."
   ]
  },
  {
   "cell_type": "code",
   "execution_count": 22,
   "metadata": {
    "colab": {
     "base_uri": "https://localhost:8080/"
    },
    "executionInfo": {
     "elapsed": 1283,
     "status": "ok",
     "timestamp": 1709076401307,
     "user": {
      "displayName": "Yee Mey Seah",
      "userId": "09522589655998299473"
     },
     "user_tz": 480
    },
    "id": "ynYux71PE8q6",
    "outputId": "eed81205-3e59-43e0-85ce-c216eacc4a57"
   },
   "outputs": [
    {
     "data": {
      "text/plain": [
       "('ca_id.csv', <http.client.HTTPMessage at 0x7fe8343cdc10>)"
      ]
     },
     "execution_count": 22,
     "metadata": {},
     "output_type": "execute_result"
    }
   ],
   "source": [
    "# Save the web address (url) in a python string\n",
    "dataset_url = 'https://data.chhs.ca.gov/dataset/03e61434-7db8-4a53-a3e2-1d4d36d6848d/resource/75019f89-b349-4d5e-825d-8b5960fc028c/download/odp_idb_2001_2022_ddg_compliant.csv'\n",
    "\n",
    "# Set the name of the file where we want to save the data\n",
    "data_file_name = 'ca_id.csv'\n",
    "\n",
    "# Download the data\n",
    "urlretrieve(dataset_url, data_file_name)"
   ]
  },
  {
   "cell_type": "code",
   "execution_count": 23,
   "metadata": {
    "id": "v12r_RQxZZUm"
   },
   "outputs": [],
   "source": [
    "# Load the text version of the table (a csv file) into python using pandas\n",
    "feature_table = pd.read_csv(data_file_name)"
   ]
  },
  {
   "cell_type": "code",
   "execution_count": 24,
   "metadata": {
    "colab": {
     "base_uri": "https://localhost:8080/"
    },
    "executionInfo": {
     "elapsed": 4,
     "status": "ok",
     "timestamp": 1709076402551,
     "user": {
      "displayName": "Yee Mey Seah",
      "userId": "09522589655998299473"
     },
     "user_tz": 480
    },
    "id": "88OLrYYDa-y1",
    "outputId": "67965644-cf5c-46ca-96d3-b45640a78e0e"
   },
   "outputs": [
    {
     "data": {
      "text/plain": [
       "(189921, 9)"
      ]
     },
     "execution_count": 24,
     "metadata": {},
     "output_type": "execute_result"
    }
   ],
   "source": [
    "feature_table.shape"
   ]
  },
  {
   "cell_type": "code",
   "execution_count": 25,
   "metadata": {
    "colab": {
     "base_uri": "https://localhost:8080/",
     "height": 206
    },
    "executionInfo": {
     "elapsed": 242,
     "status": "ok",
     "timestamp": 1709076402791,
     "user": {
      "displayName": "Yee Mey Seah",
      "userId": "09522589655998299473"
     },
     "user_tz": 480
    },
    "id": "gQ0IGG1GaVlp",
    "outputId": "44cfa920-f940-44d6-9532-c12390065af3"
   },
   "outputs": [
    {
     "data": {
      "text/html": [
       "<div>\n",
       "<style scoped>\n",
       "    .dataframe tbody tr th:only-of-type {\n",
       "        vertical-align: middle;\n",
       "    }\n",
       "\n",
       "    .dataframe tbody tr th {\n",
       "        vertical-align: top;\n",
       "    }\n",
       "\n",
       "    .dataframe thead th {\n",
       "        text-align: right;\n",
       "    }\n",
       "</style>\n",
       "<table border=\"1\" class=\"dataframe\">\n",
       "  <thead>\n",
       "    <tr style=\"text-align: right;\">\n",
       "      <th></th>\n",
       "      <th>Disease</th>\n",
       "      <th>County</th>\n",
       "      <th>Year</th>\n",
       "      <th>Sex</th>\n",
       "      <th>Cases</th>\n",
       "      <th>Population</th>\n",
       "      <th>Rate</th>\n",
       "      <th>Lower_95__CI</th>\n",
       "      <th>Upper_95__CI</th>\n",
       "    </tr>\n",
       "  </thead>\n",
       "  <tbody>\n",
       "    <tr>\n",
       "      <th>0</th>\n",
       "      <td>Anaplasmosis</td>\n",
       "      <td>Alameda</td>\n",
       "      <td>2001</td>\n",
       "      <td>Female</td>\n",
       "      <td>0.0</td>\n",
       "      <td>746596</td>\n",
       "      <td>-</td>\n",
       "      <td>0.0</td>\n",
       "      <td>0.494</td>\n",
       "    </tr>\n",
       "    <tr>\n",
       "      <th>1</th>\n",
       "      <td>Anaplasmosis</td>\n",
       "      <td>Alameda</td>\n",
       "      <td>2001</td>\n",
       "      <td>Male</td>\n",
       "      <td>0.0</td>\n",
       "      <td>718968</td>\n",
       "      <td>-</td>\n",
       "      <td>0.0</td>\n",
       "      <td>0.513</td>\n",
       "    </tr>\n",
       "    <tr>\n",
       "      <th>2</th>\n",
       "      <td>Anaplasmosis</td>\n",
       "      <td>Alameda</td>\n",
       "      <td>2001</td>\n",
       "      <td>Total</td>\n",
       "      <td>0.0</td>\n",
       "      <td>1465564</td>\n",
       "      <td>-</td>\n",
       "      <td>0.0</td>\n",
       "      <td>0.252</td>\n",
       "    </tr>\n",
       "    <tr>\n",
       "      <th>3</th>\n",
       "      <td>Anaplasmosis</td>\n",
       "      <td>Alameda</td>\n",
       "      <td>2002</td>\n",
       "      <td>Female</td>\n",
       "      <td>0.0</td>\n",
       "      <td>747987</td>\n",
       "      <td>-</td>\n",
       "      <td>0.0</td>\n",
       "      <td>0.493</td>\n",
       "    </tr>\n",
       "    <tr>\n",
       "      <th>4</th>\n",
       "      <td>Anaplasmosis</td>\n",
       "      <td>Alameda</td>\n",
       "      <td>2002</td>\n",
       "      <td>Male</td>\n",
       "      <td>0.0</td>\n",
       "      <td>720481</td>\n",
       "      <td>-</td>\n",
       "      <td>0.0</td>\n",
       "      <td>0.512</td>\n",
       "    </tr>\n",
       "  </tbody>\n",
       "</table>\n",
       "</div>"
      ],
      "text/plain": [
       "        Disease   County  Year     Sex  Cases  Population Rate  Lower_95__CI  \\\n",
       "0  Anaplasmosis  Alameda  2001  Female    0.0      746596    -           0.0   \n",
       "1  Anaplasmosis  Alameda  2001    Male    0.0      718968    -           0.0   \n",
       "2  Anaplasmosis  Alameda  2001   Total    0.0     1465564    -           0.0   \n",
       "3  Anaplasmosis  Alameda  2002  Female    0.0      747987    -           0.0   \n",
       "4  Anaplasmosis  Alameda  2002    Male    0.0      720481    -           0.0   \n",
       "\n",
       "   Upper_95__CI  \n",
       "0         0.494  \n",
       "1         0.513  \n",
       "2         0.252  \n",
       "3         0.493  \n",
       "4         0.512  "
      ]
     },
     "execution_count": 25,
     "metadata": {},
     "output_type": "execute_result"
    }
   ],
   "source": [
    "feature_table.head()"
   ]
  },
  {
   "cell_type": "markdown",
   "metadata": {
    "id": "I77a_vMUqS6c"
   },
   "source": [
    "## 2. Select a disease of your choice. Plot the number of cases of that disease by county, for the year 2022."
   ]
  },
  {
   "cell_type": "code",
   "execution_count": 26,
   "metadata": {
    "id": "hkUYmr5Dgk5b",
    "tags": []
   },
   "outputs": [],
   "source": [
    "%matplotlib inline\n",
    "# Apply the theme\n",
    "sns.set_context(\"notebook\", font_scale=1.0)"
   ]
  },
  {
   "cell_type": "code",
   "execution_count": 27,
   "metadata": {},
   "outputs": [
    {
     "name": "stdout",
     "output_type": "stream",
     "text": [
      "1.3.4\n",
      "0.13.2\n"
     ]
    }
   ],
   "source": [
    "print(pd.__version__)\n",
    "print(sns.__version__)"
   ]
  },
  {
   "cell_type": "code",
   "execution_count": 28,
   "metadata": {
    "id": "G5T7S_SdcMJI"
   },
   "outputs": [],
   "source": [
    "disease_2022 = feature_table.loc[(feature_table['Disease'] == 'Leprosy') &\n",
    "                  (feature_table['Year'] == 2022)]"
   ]
  },
  {
   "cell_type": "code",
   "execution_count": 29,
   "metadata": {
    "colab": {
     "base_uri": "https://localhost:8080/",
     "height": 206
    },
    "executionInfo": {
     "elapsed": 7,
     "status": "ok",
     "timestamp": 1709076404617,
     "user": {
      "displayName": "Yee Mey Seah",
      "userId": "09522589655998299473"
     },
     "user_tz": 480
    },
    "id": "QLWMOULgjkkQ",
    "outputId": "d419d8c3-3850-4e3a-a6c0-df14a264f689"
   },
   "outputs": [
    {
     "data": {
      "text/html": [
       "<div>\n",
       "<style scoped>\n",
       "    .dataframe tbody tr th:only-of-type {\n",
       "        vertical-align: middle;\n",
       "    }\n",
       "\n",
       "    .dataframe tbody tr th {\n",
       "        vertical-align: top;\n",
       "    }\n",
       "\n",
       "    .dataframe thead th {\n",
       "        text-align: right;\n",
       "    }\n",
       "</style>\n",
       "<table border=\"1\" class=\"dataframe\">\n",
       "  <thead>\n",
       "    <tr style=\"text-align: right;\">\n",
       "      <th></th>\n",
       "      <th>Disease</th>\n",
       "      <th>County</th>\n",
       "      <th>Year</th>\n",
       "      <th>Sex</th>\n",
       "      <th>Cases</th>\n",
       "      <th>Population</th>\n",
       "      <th>Rate</th>\n",
       "      <th>Lower_95__CI</th>\n",
       "      <th>Upper_95__CI</th>\n",
       "    </tr>\n",
       "  </thead>\n",
       "  <tbody>\n",
       "    <tr>\n",
       "      <th>87501</th>\n",
       "      <td>Leprosy</td>\n",
       "      <td>Alameda</td>\n",
       "      <td>2022</td>\n",
       "      <td>Female</td>\n",
       "      <td>0.0</td>\n",
       "      <td>856569</td>\n",
       "      <td>-</td>\n",
       "      <td>0.0</td>\n",
       "      <td>0.431</td>\n",
       "    </tr>\n",
       "    <tr>\n",
       "      <th>87502</th>\n",
       "      <td>Leprosy</td>\n",
       "      <td>Alameda</td>\n",
       "      <td>2022</td>\n",
       "      <td>Male</td>\n",
       "      <td>0.0</td>\n",
       "      <td>832969</td>\n",
       "      <td>-</td>\n",
       "      <td>0.0</td>\n",
       "      <td>0.443</td>\n",
       "    </tr>\n",
       "    <tr>\n",
       "      <th>87503</th>\n",
       "      <td>Leprosy</td>\n",
       "      <td>Alameda</td>\n",
       "      <td>2022</td>\n",
       "      <td>Total</td>\n",
       "      <td>0.0</td>\n",
       "      <td>1638979</td>\n",
       "      <td>-</td>\n",
       "      <td>0.0</td>\n",
       "      <td>0.225</td>\n",
       "    </tr>\n",
       "    <tr>\n",
       "      <th>87567</th>\n",
       "      <td>Leprosy</td>\n",
       "      <td>Alpine</td>\n",
       "      <td>2022</td>\n",
       "      <td>Female</td>\n",
       "      <td>0.0</td>\n",
       "      <td>576</td>\n",
       "      <td>-</td>\n",
       "      <td>0.0</td>\n",
       "      <td>638.384</td>\n",
       "    </tr>\n",
       "    <tr>\n",
       "      <th>87568</th>\n",
       "      <td>Leprosy</td>\n",
       "      <td>Alpine</td>\n",
       "      <td>2022</td>\n",
       "      <td>Male</td>\n",
       "      <td>0.0</td>\n",
       "      <td>563</td>\n",
       "      <td>-</td>\n",
       "      <td>0.0</td>\n",
       "      <td>653.077</td>\n",
       "    </tr>\n",
       "  </tbody>\n",
       "</table>\n",
       "</div>"
      ],
      "text/plain": [
       "       Disease   County  Year     Sex  Cases  Population Rate  Lower_95__CI  \\\n",
       "87501  Leprosy  Alameda  2022  Female    0.0      856569    -           0.0   \n",
       "87502  Leprosy  Alameda  2022    Male    0.0      832969    -           0.0   \n",
       "87503  Leprosy  Alameda  2022   Total    0.0     1638979    -           0.0   \n",
       "87567  Leprosy   Alpine  2022  Female    0.0         576    -           0.0   \n",
       "87568  Leprosy   Alpine  2022    Male    0.0         563    -           0.0   \n",
       "\n",
       "       Upper_95__CI  \n",
       "87501         0.431  \n",
       "87502         0.443  \n",
       "87503         0.225  \n",
       "87567       638.384  \n",
       "87568       653.077  "
      ]
     },
     "execution_count": 29,
     "metadata": {},
     "output_type": "execute_result"
    }
   ],
   "source": [
    "disease_2022.head()"
   ]
  },
  {
   "cell_type": "code",
   "execution_count": 30,
   "metadata": {
    "colab": {
     "base_uri": "https://localhost:8080/",
     "height": 498
    },
    "executionInfo": {
     "elapsed": 1090,
     "status": "ok",
     "timestamp": 1709076405702,
     "user": {
      "displayName": "Yee Mey Seah",
      "userId": "09522589655998299473"
     },
     "user_tz": 480
    },
    "id": "WPfqMRIVhYH-",
    "outputId": "241a7408-0d5f-4c4f-a301-85cd18feef56"
   },
   "outputs": [
    {
     "data": {
      "text/plain": [
       "Text(0.5, 1.0, 'Leprosy in California Counties, 2022')"
      ]
     },
     "execution_count": 30,
     "metadata": {},
     "output_type": "execute_result"
    },
    {
     "data": {
      "image/png": "[encoded data removed]",
      "text/plain": [
       "<Figure size 432x288 with 1 Axes>"
      ]
     },
     "metadata": {
      "needs_background": "light"
     },
     "output_type": "display_data"
    }
   ],
   "source": [
    "sns.barplot(data=disease_2022.loc[disease_2022['Cases'] > 0], x='County', y='Cases').set_title('Leprosy in California Counties, 2022')"
   ]
  },
  {
   "cell_type": "markdown",
   "metadata": {
    "id": "O4SLeuBnqYV1"
   },
   "source": [
    "## 3. Select a disease of your choice. Plot the number of cases of that disease in Los Angeles between the years 2001-2010."
   ]
  },
  {
   "cell_type": "code",
   "execution_count": 31,
   "metadata": {
    "id": "ZknILAY3kotz"
   },
   "outputs": [],
   "source": [
    "disease_la = feature_table.loc[(feature_table['Disease'] == 'Shigellosis') &\n",
    "                  (feature_table['County'] == 'Los Angeles')]"
   ]
  },
  {
   "cell_type": "code",
   "execution_count": 32,
   "metadata": {
    "colab": {
     "base_uri": "https://localhost:8080/",
     "height": 498
    },
    "executionInfo": {
     "elapsed": 604,
     "status": "ok",
     "timestamp": 1709076406514,
     "user": {
      "displayName": "Yee Mey Seah",
      "userId": "09522589655998299473"
     },
     "user_tz": 480
    },
    "id": "HzyNsnDEk3GL",
    "outputId": "6a9a67c7-1d49-4bc9-d30d-b31c0840f1be"
   },
   "outputs": [
    {
     "data": {
      "text/plain": [
       "Text(0.5, 1.0, 'Shigellosis in Los Angeles, 2001-2022')"
      ]
     },
     "execution_count": 32,
     "metadata": {},
     "output_type": "execute_result"
    },
    {
     "data": {
      "image/png": "[encoded data removed]",
      "text/plain": [
       "<Figure size 432x288 with 1 Axes>"
      ]
     },
     "metadata": {
      "needs_background": "light"
     },
     "output_type": "display_data"
    }
   ],
   "source": [
    "sns.lineplot(data=disease_la, x='Year', y='Cases').set_title('Shigellosis in Los Angeles, 2001-2022')"
   ]
  },
  {
   "cell_type": "markdown",
   "metadata": {
    "id": "eYZAbijXfIt4"
   },
   "source": [
    "## 4. Create another plot of your choice, with an appropriate title."
   ]
  },
  {
   "cell_type": "code",
   "execution_count": 48,
   "metadata": {
    "colab": {
     "base_uri": "https://localhost:8080/",
     "height": 221
    },
    "executionInfo": {
     "elapsed": 222,
     "status": "error",
     "timestamp": 1709612751512,
     "user": {
      "displayName": "Yee Mey Seah",
      "userId": "09522589655998299473"
     },
     "user_tz": 480
    },
    "id": "06c4Zj-0yFcw",
    "outputId": "3636ff1f-628b-474a-afdc-d78b631d6b46"
   },
   "outputs": [],
   "source": [
    "shigellosis = feature_table.loc[(feature_table['Disease'] == 'Shigellosis') &\n",
    "                             ((feature_table['County'] == 'San Francisco') |\n",
    "                              (feature_table['County'] == 'Los Angeles') |\n",
    "                              (feature_table['County'] == 'Sacramento'))].copy()"
   ]
  },
  {
   "cell_type": "code",
   "execution_count": 49,
   "metadata": {
    "colab": {
     "base_uri": "https://localhost:8080/",
     "height": 498
    },
    "executionInfo": {
     "elapsed": 4727,
     "status": "ok",
     "timestamp": 1709076411239,
     "user": {
      "displayName": "Yee Mey Seah",
      "userId": "09522589655998299473"
     },
     "user_tz": 480
    },
    "id": "y1pVLvnBq3DW",
    "outputId": "fc569f8e-4571-4f9a-99d5-3e57cf7cad10"
   },
   "outputs": [
    {
     "data": {
      "text/plain": [
       "<seaborn.axisgrid.FacetGrid at 0x7fe83831bd30>"
      ]
     },
     "execution_count": 49,
     "metadata": {},
     "output_type": "execute_result"
    },
    {
     "data": {
      "image/png": "[encoded data removed]",
      "text/plain": [
       "<Figure size 1159.73x360 with 3 Axes>"
      ]
     },
     "metadata": {
      "needs_background": "light"
     },
     "output_type": "display_data"
    }
   ],
   "source": [
    "ax = sns.catplot(kind='bar', data=shigellosis.loc[shigellosis['Sex'] != 'Total'], x='Year', y='Cases', hue='Sex', col='County')\n",
    "# Rotate labels\n",
    "ax.tick_params(axis='x', rotation=90)\n",
    "ax.set_titles(\"Shigellosis in {col_name} {col_var}\")"
   ]
  },
  {
   "cell_type": "code",
   "execution_count": 50,
   "metadata": {
    "id": "DZvU8DYxo31x"
   },
   "outputs": [],
   "source": [
    "shigellosis['Cases_per_Population'] = shigellosis['Cases'] / shigellosis['Population']\n",
    "shigellosis['Cases_per_100kPopulation'] = 100000 * shigellosis['Cases'] / shigellosis['Population']"
   ]
  },
  {
   "cell_type": "code",
   "execution_count": 52,
   "metadata": {},
   "outputs": [
    {
     "data": {
      "text/plain": [
       "<seaborn.axisgrid.FacetGrid at 0x7fe83932d370>"
      ]
     },
     "execution_count": 52,
     "metadata": {},
     "output_type": "execute_result"
    },
    {
     "data": {
      "image/png": "[encoded data removed]",
      "text/plain": [
       "<Figure size 1159.73x360 with 3 Axes>"
      ]
     },
     "metadata": {
      "needs_background": "light"
     },
     "output_type": "display_data"
    }
   ],
   "source": [
    "ax2 = sns.catplot(kind='bar', data=shigellosis.loc[shigellosis['Sex'] != 'Total'], x='Year', y='Cases_per_100kPopulation', hue='Sex', col='County')\n",
    "# Rotate labels\n",
    "ax2.tick_params(axis='x', rotation=90)\n",
    "ax2.set_titles(\"Shigellosis per 100,000 people in {col_name} {col_var}\")"
   ]
  },
  {
   "cell_type": "code",
   "execution_count": 53,
   "metadata": {},
   "outputs": [
    {
     "data": {
      "text/html": [
       "<div>\n",
       "<style scoped>\n",
       "    .dataframe tbody tr th:only-of-type {\n",
       "        vertical-align: middle;\n",
       "    }\n",
       "\n",
       "    .dataframe tbody tr th {\n",
       "        vertical-align: top;\n",
       "    }\n",
       "\n",
       "    .dataframe thead th {\n",
       "        text-align: right;\n",
       "    }\n",
       "</style>\n",
       "<table border=\"1\" class=\"dataframe\">\n",
       "  <thead>\n",
       "    <tr style=\"text-align: right;\">\n",
       "      <th></th>\n",
       "      <th>Disease</th>\n",
       "      <th>County</th>\n",
       "      <th>Year</th>\n",
       "      <th>Sex</th>\n",
       "      <th>Cases</th>\n",
       "      <th>Population</th>\n",
       "      <th>Rate</th>\n",
       "      <th>Lower_95__CI</th>\n",
       "      <th>Upper_95__CI</th>\n",
       "      <th>Cases_per_Population</th>\n",
       "      <th>Cases_per_100kPopulation</th>\n",
       "    </tr>\n",
       "  </thead>\n",
       "  <tbody>\n",
       "    <tr>\n",
       "      <th>150996</th>\n",
       "      <td>Shigellosis</td>\n",
       "      <td>Los Angeles</td>\n",
       "      <td>2001</td>\n",
       "      <td>Female</td>\n",
       "      <td>308.0</td>\n",
       "      <td>4880163</td>\n",
       "      <td>6.311</td>\n",
       "      <td>5.626</td>\n",
       "      <td>7.057</td>\n",
       "      <td>0.000063</td>\n",
       "      <td>6.311265</td>\n",
       "    </tr>\n",
       "    <tr>\n",
       "      <th>150997</th>\n",
       "      <td>Shigellosis</td>\n",
       "      <td>Los Angeles</td>\n",
       "      <td>2001</td>\n",
       "      <td>Male</td>\n",
       "      <td>416.0</td>\n",
       "      <td>4755632</td>\n",
       "      <td>8.748</td>\n",
       "      <td>7.927</td>\n",
       "      <td>9.630</td>\n",
       "      <td>0.000087</td>\n",
       "      <td>8.747523</td>\n",
       "    </tr>\n",
       "    <tr>\n",
       "      <th>150998</th>\n",
       "      <td>Shigellosis</td>\n",
       "      <td>Los Angeles</td>\n",
       "      <td>2001</td>\n",
       "      <td>Total</td>\n",
       "      <td>728.0</td>\n",
       "      <td>9635795</td>\n",
       "      <td>7.555</td>\n",
       "      <td>7.016</td>\n",
       "      <td>8.124</td>\n",
       "      <td>0.000076</td>\n",
       "      <td>7.555163</td>\n",
       "    </tr>\n",
       "    <tr>\n",
       "      <th>150999</th>\n",
       "      <td>Shigellosis</td>\n",
       "      <td>Los Angeles</td>\n",
       "      <td>2002</td>\n",
       "      <td>Female</td>\n",
       "      <td>539.0</td>\n",
       "      <td>4924247</td>\n",
       "      <td>10.946</td>\n",
       "      <td>10.041</td>\n",
       "      <td>11.910</td>\n",
       "      <td>0.000109</td>\n",
       "      <td>10.945836</td>\n",
       "    </tr>\n",
       "    <tr>\n",
       "      <th>151000</th>\n",
       "      <td>Shigellosis</td>\n",
       "      <td>Los Angeles</td>\n",
       "      <td>2002</td>\n",
       "      <td>Male</td>\n",
       "      <td>512.0</td>\n",
       "      <td>4798197</td>\n",
       "      <td>10.671</td>\n",
       "      <td>9.766</td>\n",
       "      <td>11.636</td>\n",
       "      <td>0.000107</td>\n",
       "      <td>10.670675</td>\n",
       "    </tr>\n",
       "  </tbody>\n",
       "</table>\n",
       "</div>"
      ],
      "text/plain": [
       "            Disease       County  Year     Sex  Cases  Population    Rate  \\\n",
       "150996  Shigellosis  Los Angeles  2001  Female  308.0     4880163   6.311   \n",
       "150997  Shigellosis  Los Angeles  2001    Male  416.0     4755632   8.748   \n",
       "150998  Shigellosis  Los Angeles  2001   Total  728.0     9635795   7.555   \n",
       "150999  Shigellosis  Los Angeles  2002  Female  539.0     4924247  10.946   \n",
       "151000  Shigellosis  Los Angeles  2002    Male  512.0     4798197  10.671   \n",
       "\n",
       "        Lower_95__CI  Upper_95__CI  Cases_per_Population  \\\n",
       "150996         5.626         7.057              0.000063   \n",
       "150997         7.927         9.630              0.000087   \n",
       "150998         7.016         8.124              0.000076   \n",
       "150999        10.041        11.910              0.000109   \n",
       "151000         9.766        11.636              0.000107   \n",
       "\n",
       "        Cases_per_100kPopulation  \n",
       "150996                  6.311265  \n",
       "150997                  8.747523  \n",
       "150998                  7.555163  \n",
       "150999                 10.945836  \n",
       "151000                 10.670675  "
      ]
     },
     "execution_count": 53,
     "metadata": {},
     "output_type": "execute_result"
    }
   ],
   "source": [
    "shigellosis.head()"
   ]
  },
  {
   "cell_type": "code",
   "execution_count": null,
   "metadata": {},
   "outputs": [],
   "source": []
  }
 ],
 "metadata": {
  "colab": {
   "authorship_tag": "ABX9TyMZei4wAOXADaZlGaMoxpo/",
   "provenance": []
  },
  "kernelspec": {
   "display_name": "Python 3 (ipykernel)",
   "language": "python",
   "name": "python3"
  },
  "language_info": {
   "codemirror_mode": {
    "name": "ipython",
    "version": 3
   },
   "file_extension": ".py",
   "mimetype": "text/x-python",
   "name": "python",
   "nbconvert_exporter": "python",
   "pygments_lexer": "ipython3",
   "version": "3.8.12"
  }
 },
 "nbformat": 4,
 "nbformat_minor": 4
}
